{
 "cells": [
  {
   "cell_type": "markdown",
   "metadata": {},
   "source": [
    "December 15, 2017\n",
    "\n",
    "University of Montana                                      \n",
    "\n",
    "Master of Science in Business Analytics\n",
    "\n",
    "BMIS-694-Text Mining of Unstructured Data\n",
    "\n",
    "Project Assignment \n",
    "\n",
    "# Naive Bayes Classification of Tweets from Two Magazines\n",
    "Objective: To classify common words and sentences to each magazine. \n",
    "\n",
    "## About the Magazines\n",
    "\n",
    "In this project for BMKT 670 Applied Data Analytics, I pulled tweets from two magazines' using Twitter API handles. Those magizines are: Africa Science News and Society for Science. Africa Science News is Africa's leading website for science for development, health and environment based in Nairobi, Kenya ([@Afriscience](http://africasciencenews.org/) ) while and Society for Science is a US based non-profit membership organization dedicated to the public engagement in scientific research and education. ([@Society4Science](https://www.societyforscience.org/))."
   ]
  },
  {
   "cell_type": "code",
   "execution_count": 1,
   "metadata": {},
   "outputs": [
    {
     "name": "stdout",
     "output_type": "stream",
     "text": [
      "*** Introductory Examples for the NLTK Book ***\n",
      "Loading text1, ..., text9 and sent1, ..., sent9\n",
      "Type the name of the text or sentence to view it.\n",
      "Type: 'texts()' or 'sents()' to list the materials.\n",
      "text1: Moby Dick by Herman Melville 1851\n",
      "text2: Sense and Sensibility by Jane Austen 1811\n",
      "text3: The Book of Genesis\n",
      "text4: Inaugural Address Corpus\n",
      "text5: Chat Corpus\n",
      "text6: Monty Python and the Holy Grail\n",
      "text7: Wall Street Journal\n",
      "text8: Personals Corpus\n",
      "text9: The Man Who Was Thursday by G . K . Chesterton 1908\n"
     ]
    }
   ],
   "source": [
    "import nltk\n",
    "from nltk.book import *"
   ]
  },
  {
   "cell_type": "code",
   "execution_count": 2,
   "metadata": {
    "collapsed": true
   },
   "outputs": [],
   "source": [
    "#Storing the AfriScience data at a text called text one which will be used in the sections below. \n",
    "\n",
    "import nltk\n",
    "f1=open('./20171125_Afriscience_followers.txt', 'r')\n",
    "raw1=f1.read()\n",
    "tokens1 = nltk.word_tokenize(raw1)\n",
    "text1 = nltk.Text(tokens1)\n",
    "\n",
    "f2=open('./20171125_Society4Science_followers.txt', 'r')\n",
    "raw2=f2.read()\n",
    "tokens2 = nltk.word_tokenize(raw2)\n",
    "text2 = nltk.Text(tokens2)"
   ]
  },
  {
   "cell_type": "code",
   "execution_count": 3,
   "metadata": {},
   "outputs": [
    {
     "data": {
      "text/plain": [
       "<Text: screen_name name id location followers_count friends_count description Afriscience...>"
      ]
     },
     "execution_count": 3,
     "metadata": {},
     "output_type": "execute_result"
    }
   ],
   "source": [
    "text1 #Reads the first row of the file, AfriScience"
   ]
  },
  {
   "cell_type": "code",
   "execution_count": 4,
   "metadata": {},
   "outputs": [
    {
     "data": {
      "text/plain": [
       "<Text: screen_name name id location followers_count friends_count description Society4Science...>"
      ]
     },
     "execution_count": 4,
     "metadata": {},
     "output_type": "execute_result"
    }
   ],
   "source": [
    "text2 #Reads the first row of the file, Society for Science"
   ]
  },
  {
   "cell_type": "code",
   "execution_count": 5,
   "metadata": {
    "collapsed": true
   },
   "outputs": [],
   "source": [
    "from nltk.corpus import PlaintextCorpusReader\n",
    "\n",
    "# RegEx or list of file names\n",
    "path = \".\\\\API-Twitter\\\\\"\n",
    "files = \".*\\.txt\"\n",
    "\n",
    "corpus0 = PlaintextCorpusReader(path, files)\n",
    "corpus1  = nltk.Text(corpus0.words())\n",
    "corpus2  = nltk.Text(corpus0.words())"
   ]
  },
  {
   "cell_type": "markdown",
   "metadata": {},
   "source": [
    "## Data Preparation\n",
    "Using the natural language tool kit (NLTK) package, the next step is to prepare the data into a readable. The function format_sentence transforms each tweet into words and compiles them into a dictionary. Those words are recorded as TRUE booleans. [source](https://www.twilio.com/blog/2017/09/sentiment-analysis-python-messy-data-nltk.html) ."
   ]
  },
  {
   "cell_type": "code",
   "execution_count": 68,
   "metadata": {},
   "outputs": [
    {
     "name": "stdout",
     "output_type": "stream",
     "text": [
      "{'Africa': True, 's': True, 'leading': True, 'website': True, 'for': True, 'science': True, 'development': True, ',': True, 'health': True, 'and': True, 'environment': True}\n"
     ]
    }
   ],
   "source": [
    "import nltk\n",
    "\n",
    "def format_sentence(sent):\n",
    "    return({word: True for word in nltk.word_tokenize(sent)})\n",
    "\n",
    "#The first sentence in the Africa Science twitter downloaded textfile data.\n",
    "print(format_sentence(\"Africa s leading website for science for development, health and environment\"))"
   ]
  },
  {
   "cell_type": "code",
   "execution_count": 69,
   "metadata": {
    "collapsed": true,
    "scrolled": false
   },
   "outputs": [],
   "source": [
    "#So the description is in the 7th column of the data\n",
    "description_list = []\n",
    "with open(\"./20171125_Afriscience_followers.txt\") as f:\n",
    "    for i in f:                                      #this is the list of the columns\n",
    "        i = i.strip().split(\"\\t\")                    #Split on a tab cause the text is separted with tabs\n",
    "        if len(i) > 6:\n",
    "            descrip = i[6]                           #Choose the 7th column of the text file, which is the description\n",
    "            description_list.append((descrip,\"Afri\"))#Add the description column from the Africa Science \n",
    "                                                     #file to the dictionary description list.\n",
    "            \n",
    "with open(\"./20171125_Society4Science_followers.txt\") as f:\n",
    "    for i in f: \n",
    "        i = i.strip().split(\"\\t\")\n",
    "        if len(i) > 6:\n",
    "            descrip = i[6]\n",
    "            description_list.append((descrip,\"USA\")) #Add the description column from the Society for Science \n",
    "                                                     #file to the dictionary description list."
   ]
  },
  {
   "cell_type": "markdown",
   "metadata": {},
   "source": [
    "## Building Labels for the datasets\n",
    "In the following codes, I wrote a function for the labels "
   ]
  },
  {
   "cell_type": "code",
   "execution_count": 154,
   "metadata": {},
   "outputs": [
    {
     "data": {
      "text/plain": [
       "{'science': 'g'}"
      ]
     },
     "execution_count": 154,
     "metadata": {},
     "output_type": "execute_result"
    }
   ],
   "source": [
    "def desc_features(word):\n",
    "    return {'science': word[-1]}\n",
    "desc_features('annoying')"
   ]
  },
  {
   "cell_type": "code",
   "execution_count": null,
   "metadata": {
    "collapsed": true
   },
   "outputs": [],
   "source": [
    "def desc_features(desc):\n",
    "    return{ 'science', \n",
    "            'agriculture',\n",
    "            'programe',\n",
    "            'education',\n",
    "            'poor',\n",
    "            'rain',\n",
    "            'soil',\n",
    "            'organic',\n",
    "            'church',\n",
    "            'program'\n",
    "            'process',\n",
    "            'research',\n",
    "            'stem',\n",
    "            'God',\n",
    "            'fearing'\n",
    "            'football'\n",
    "            }\n",
    "desc_features('Science')"
   ]
  },
  {
   "cell_type": "code",
   "execution_count": 127,
   "metadata": {
    "collapsed": true
   },
   "outputs": [],
   "source": [
    "#define words features in the magazines. Use the list of words I saved in the text files for each magazine here\n",
    "def desc_features(word):\n",
    "    \n",
    "    word = desc.strip(\"\\n\").split()\n",
    "    \n",
    "    #print(desc)\n",
    "    word = \"science agriculture programme education poor rain soil organic church program process research stem Gid fearing football\"\n",
    "    ret_dict = {'environmental':word[-3],\n",
    "                'science':word[-1],\n",
    "                }\n",
    "    \n",
    "    return(ret_dict)"
   ]
  },
  {
   "cell_type": "code",
   "execution_count": 155,
   "metadata": {},
   "outputs": [
    {
     "name": "stdout",
     "output_type": "stream",
     "text": [
      "~I m walking toward my future, but tripping over my own feet~~Aspiring Archaeologist~~BNTH@W Senior 2017~~The University of Texas at Austin class of 2021~\n"
     ]
    }
   ],
   "source": [
    "print(word)"
   ]
  },
  {
   "cell_type": "code",
   "execution_count": 156,
   "metadata": {
    "collapsed": true
   },
   "outputs": [],
   "source": [
    "# lower cases all words. \n",
    "import re\n",
    "def desc_features(desc):\n",
    "    split_desc = desc.split(\" \")\n",
    "    lower_desc = [row.lower() for row in split_desc]\n",
    "    lower_desc = [re.sub(r'[^\\w\\s]','',word) for word in lower_desc]\n",
    "    # To check for the length of words\n",
    "    if  len(lower_desc) > 20:\n",
    "        longd = True\n",
    "    else: \n",
    "        longd = False\n",
    "    ret_val = {\"LONG\":longd}\n",
    "    for word in lower_desc:\n",
    "        ret_val[word] = True\n",
    "    return(ret_val)"
   ]
  },
  {
   "cell_type": "code",
   "execution_count": 157,
   "metadata": {
    "collapsed": true
   },
   "outputs": [],
   "source": [
    "import random\n",
    "random.shuffle(description_list)"
   ]
  },
  {
   "cell_type": "code",
   "execution_count": 158,
   "metadata": {
    "collapsed": true
   },
   "outputs": [],
   "source": [
    "test_size = 3000\n",
    "devtest_size = 6000\n",
    "\n",
    "featuresets = [(format_sentence(n), name) for (n, name) in description_list]\n",
    "train_set, test_set = featuresets[3000:], featuresets[:3000]\n",
    "devtest_names = description_list[test_size:(test_size + devtest_size)]\n",
    "classifier = nltk.NaiveBayesClassifier.train(train_set)"
   ]
  },
  {
   "cell_type": "code",
   "execution_count": 159,
   "metadata": {
    "collapsed": true
   },
   "outputs": [],
   "source": [
    "#Building a classifier \n",
    "from nltk.classify import NaiveBayesClassifier\n",
    "\n",
    "classifier = NaiveBayesClassifier.train(train_set)"
   ]
  },
  {
   "cell_type": "code",
   "execution_count": 160,
   "metadata": {},
   "outputs": [
    {
     "name": "stdout",
     "output_type": "stream",
     "text": [
      "Most Informative Features\n",
      "                  Comedy = True             Afri : USA    =    190.9 : 1.0\n",
      "                  l'khbr = True             Afri : USA    =    120.2 : 1.0\n",
      "               ltknwlwjy = True             Afri : USA    =    100.7 : 1.0\n",
      "             Journalists = True             Afri : USA    =     85.2 : 1.0\n",
      "                   wldyn = True             Afri : USA    =     55.8 : 1.0\n",
      "                   Sains = True             Afri : USA    =     54.6 : 1.0\n",
      "                  Movies = True             Afri : USA    =     51.0 : 1.0\n",
      "                   'khbr = True             Afri : USA    =     50.0 : 1.0\n",
      "                      kr = True             Afri : USA    =     50.0 : 1.0\n",
      "           Entertainment = True             Afri : USA    =     45.1 : 1.0\n",
      "                  wlthqf = True             Afri : USA    =     44.3 : 1.0\n",
      "                   Anime = True             Afri : USA    =     43.7 : 1.0\n",
      "                  Africa = True             Afri : USA    =     36.9 : 1.0\n",
      "                 General = True             Afri : USA    =     34.8 : 1.0\n",
      "                    lqdm = True             Afri : USA    =     28.0 : 1.0\n",
      "                     l`m = True             Afri : USA    =     27.8 : 1.0\n",
      "              Basketball = True             Afri : USA    =     27.5 : 1.0\n",
      "                 African = True             Afri : USA    =     27.4 : 1.0\n",
      "                   Local = True             Afri : USA    =     26.2 : 1.0\n",
      "                   Kenya = True             Afri : USA    =     21.9 : 1.0\n",
      "                 Authors = True             Afri : USA    =     21.9 : 1.0\n",
      "                    Fair = True              USA : Afri   =     21.4 : 1.0\n",
      "                    mHly = True             Afri : USA    =     21.3 : 1.0\n",
      "                 Theater = True             Afri : USA    =     19.0 : 1.0\n",
      "                      `m = True             Afri : USA    =     19.0 : 1.0\n",
      "                 farmers = True             Afri : USA    =     19.0 : 1.0\n",
      "            Agribusiness = True             Afri : USA    =     17.8 : 1.0\n",
      "                Tanzania = True             Afri : USA    =     16.7 : 1.0\n",
      "                   Ghana = True             Afri : USA    =     16.7 : 1.0\n",
      "                  Uganda = True             Afri : USA    =     16.7 : 1.0\n",
      "                 Nairobi = True             Afri : USA    =     16.7 : 1.0\n",
      "                 Nigeria = True             Afri : USA    =     16.3 : 1.0\n",
      "                 college = True              USA : Afri   =     15.6 : 1.0\n",
      "                  Soccer = True             Afri : USA    =     15.6 : 1.0\n",
      "                   Dubai = True             Afri : USA    =     15.5 : 1.0\n",
      "                     aku = True             Afri : USA    =     15.5 : 1.0\n",
      "             Agriculture = True             Afri : USA    =     15.3 : 1.0\n",
      "               astronomy = True              USA : Afri   =     15.3 : 1.0\n",
      "                   STEAM = True              USA : Afri   =     15.3 : 1.0\n",
      "                 ciencia = True              USA : Afri   =     14.9 : 1.0\n",
      "                 Retired = True              USA : Afri   =     14.5 : 1.0\n",
      "                   grade = True              USA : Afri   =     14.1 : 1.0\n",
      "                   l`lwm = True             Afri : USA    =     13.9 : 1.0\n",
      "                    SDGs = True             Afri : USA    =     13.5 : 1.0\n",
      "                  County = True              USA : Afri   =     13.3 : 1.0\n",
      "                    arts = True              USA : Afri   =     13.3 : 1.0\n",
      "                     fqT = True             Afri : USA    =     13.2 : 1.0\n",
      "                    vida = True              USA : Afri   =     12.6 : 1.0\n",
      "                    Alum = True              USA : Afri   =     12.6 : 1.0\n",
      "                    STEM = True              USA : Afri   =     12.5 : 1.0\n"
     ]
    }
   ],
   "source": [
    "#The most informative words. I don't know some of the words. \n",
    "classifier.show_most_informative_features(50) #print 50 most informative words"
   ]
  },
  {
   "cell_type": "markdown",
   "metadata": {},
   "source": [
    "## Interpretation of the Most Informative Features\n",
    "The word comedy is said 229 times in Africa Science magazine than in the Society for Science magazine. l'khbr is said about 149 times in Africa Science magazine than in the Society for Science magazine. ltknwlwjy is said about 125 times in Africa Science magazine than in the Society for Science magazine. Journalists is said about 104 times in Africa Science magazine than in the Society for Science magazine. The next five words are probably in African languages, which make sense if they are said that many times in Africa Science magazine than the USA magazine. It is interesting to see that local languages are used with the English language, but it is natural to do so, assuming that that all readers understand it. Now, I want/am interested to also pull up the sentences where those words are used to see how they are used in context. "
   ]
  },
  {
   "cell_type": "code",
   "execution_count": 161,
   "metadata": {},
   "outputs": [
    {
     "name": "stdout",
     "output_type": "stream",
     "text": [
      "0.7606666666666667\n"
     ]
    }
   ],
   "source": [
    "#Accuracy of the model\n",
    "from nltk.classify.util import accuracy\n",
    "print(accuracy(classifier, test_set))"
   ]
  },
  {
   "cell_type": "markdown",
   "metadata": {},
   "source": [
    "## Interpretation of the Accuracy of the Bayes Classifier \n",
    "The training model has classfied correctly the data 76.06 % of the time. \n",
    "\n",
    "To learn more about [classification methods](http://www.nltk.org/book/ch06.html). "
   ]
  },
  {
   "cell_type": "markdown",
   "metadata": {},
   "source": [
    "## Error Prediction Using the devtest_names\n",
    "The code below is to create a list of errors that the classifier made when it was prediction the words that belong to Africa Science or Society for Science Magazine."
   ]
  },
  {
   "cell_type": "code",
   "execution_count": null,
   "metadata": {},
   "outputs": [],
   "source": [
    "errors = []\n",
    "for (word, tag) in devtest_names:\n",
    "    guess = classifier.classify(desc_features(word))\n",
    "    if guess != tag:\n",
    "        errors.append( (tag, guess, word) )\n",
    "        \n",
    "        #I need to define desc_features"
   ]
  },
  {
   "cell_type": "code",
   "execution_count": null,
   "metadata": {},
   "outputs": [],
   "source": [
    "for (tag, guess, word) in sorted(errors):\n",
    "    print('correct={:<8} guess={:<8s} name={:<30}'.format(tag, guess, word))"
   ]
  },
  {
   "attachments": {
    "image.png": {
     "image/png": "[encoded data removed]"
    }
   },
   "cell_type": "markdown",
   "metadata": {},
   "source": [
    "![image.png](attachment:image.png)"
   ]
  },
  {
   "cell_type": "markdown",
   "metadata": {},
   "source": [
    "## Words Sources\n",
    "The codes below are to find the source of the most informative features found above."
   ]
  },
  {
   "cell_type": "code",
   "execution_count": 12,
   "metadata": {},
   "outputs": [
    {
     "name": "stdout",
     "output_type": "stream",
     "text": [
      "Displaying 25 of 345 matches:\n",
      "3632 Teriang , Pahang 8 150 Hiburan Comedy Teknologi Berita Sains & Teknologi \n",
      "eneral News World News Movies Music Comedy Photography Mr_lesungs Mr. Velly 79\n",
      "ham 791881203628421120 10 170 Anime Comedy Movies Music Photography Science Te\n",
      "rts & Culture General Entertainment Comedy habib_mallah1 Habib Mallah 79985042\n",
      ", United Arab Emirates 20 70 Movies Comedy Photography Entertainment sahisopa \n",
      "ic Arts & Culture Food Movies Anime Comedy Travel Entertainment Sports World N\n",
      "050192901 Dungun , Terengganu 13 91 Comedy Filem Berita Dunia Sukan Tempatan B\n",
      "4945105920 Gombak , Selangor 25 407 Comedy Music Movies Arts & Culture Photogr\n",
      "l`rby @ lmtHd @ 30 90 Entertainment Comedy Photography Faith & Religion aaw711\n",
      "192565815345152 Sibu , Sarawak 2 93 Comedy Filem Muzik Sains & Teknologi Hibur\n",
      " General Entertainment Music Movies Comedy Anime Arts & Culture Food Travel Ph\n",
      "mpat , Kelantan 24 99 Business News Comedy General News Local Sports Local Spo\n",
      "538852865 Malacca , Malaysia 10 104 Comedy Comedy Comedy Comedy Music Movies S\n",
      "65 Malacca , Malaysia 10 104 Comedy Comedy Comedy Comedy Music Movies Science \n",
      "cca , Malaysia 10 104 Comedy Comedy Comedy Comedy Music Movies Science & Tech \n",
      "alaysia 10 104 Comedy Comedy Comedy Comedy Music Movies Science & Tech Science\n",
      "uzik Sains & Teknologi Berita Sains Comedy Hiburan Am Filem Hiburan Muzik Tekn\n",
      "ited Arab Emirates 6 101 Basketball Comedy General Entertainment Local Sports \n",
      "0032 Muar , Johor 6 104 Muzik Anime Comedy Filem Pelancongan YongHanscom Yong \n",
      "000102871040 London , England 9 285 Comedy Food Food Music Movies rihamakli Ri\n",
      "ainment General Entertainment Music Comedy Science & Tech Science News Travel \n",
      " Science Science News Entertainment Comedy Nipun35882406 Nipun 825775477109297\n",
      "ia 1 93 Entertainment Business News Comedy Movies Science Sports General Enter\n",
      "ate 7 133 Entertainment Music Anime Comedy lAVEqYN9Olmmg6W zhr 823899074998964\n",
      "n 812789890433699840 Malaysia 7 135 Comedy mnoltze Dr. Martin Noltze 140183724\n"
     ]
    }
   ],
   "source": [
    "#Text1 is defined in the very top of this file\n",
    "text1.concordance('Comedy')"
   ]
  },
  {
   "cell_type": "code",
   "execution_count": 41,
   "metadata": {},
   "outputs": [
    {
     "name": "stdout",
     "output_type": "stream",
     "text": [
      "Displaying 25 of 164 matches:\n",
      ". 815981029278314496 lshrq @ 2 101 ltknwlwjy l`lwm w ltknwlwjy l'khbr l`m @ lym\n",
      "96 lshrq @ 2 101 ltknwlwjy l`lwm w ltknwlwjy l'khbr l`m @ lymn wldyn ltrfyh wai\n",
      "l'khbr l'khbr l`m @ l'flm lrswmy @ ltknwlwjy ltrfyh ltSwyr lryDt lSHfywn l`lwm \n",
      "hbr l`lm lSHfywn kr @ lqdm l`lwm w ltknwlwjy ltknwlwjy jGUjDe9y30SID8X `ywn mh \n",
      "SHfywn kr @ lqdm l`lwm w ltknwlwjy ltknwlwjy jGUjDe9y30SID8X `ywn mh 7205449430\n",
      "953 Morocco 45 174 mHtrf lhkr hack ltknwlwjy ltknwlwjy l`lwm w ltknwlwjy kholou\n",
      "o 45 174 mHtrf lhkr hack ltknwlwjy ltknwlwjy l`lwm w ltknwlwjy kholoudamr8 khol\n",
      "r hack ltknwlwjy ltknwlwjy l`lwm w ltknwlwjy kholoudamr8 kholoud amr 7970083489\n",
      "9 l'khbr l`m @ l'khbr l'khbr l`m @ ltknwlwjy ltSwyr lryDt Joji15030718 Joji 760\n",
      " 'flm 'khbr l`lwm 'khbr l`lm l`lwm ltknwlwjy ltSwyr lymn wldyn Solidpadu Fiz ( \n",
      "kwmydy lfnwn wlthqf @ l`lwm ltrfyh ltknwlwjy CharlesLutta4 Charles Lutta 245009\n",
      "5087617 lmrt l`rby @ lmtHd @ 7 193 ltknwlwjy ltknwlwjy ltknwlwjy l'khbr l`m @ l\n",
      "rt l`rby @ lmtHd @ 7 193 ltknwlwjy ltknwlwjy ltknwlwjy l'khbr l`m @ l`lwm w ltk\n",
      " lmtHd @ 7 193 ltknwlwjy ltknwlwjy ltknwlwjy l'khbr l`m @ l`lwm w ltknwlwjy 'kh\n",
      "wjy ltknwlwjy l'khbr l`m @ l`lwm w ltknwlwjy 'khbr l`lwm l'khbr l`lwm 'khbr l`l\n",
      "ted Arab Emirates 3 104 lymn wldyn ltknwlwjy l`lwm MENAShaleSummit MENA Shale S\n",
      "rab Emirates 75 400 l'khbr l`lwm w ltknwlwjy lfnwn wlthqf @ lryDt 'khbr l`lwm K\n",
      "w kr @ lqdm , 'khbr l`lm , l`lwm w ltknwlwjy , lsfr , fiz_kvas Faiz Kvas11 @ gm\n",
      "`m @ lryDt lymn wldyn lsfr l`lwm w ltknwlwjy l`lwm lfnwn wlthqf @ 'khbr l`lm 'f\n",
      "syq~ 'khbr l`lm 'khbr l`lm l`lwm w ltknwlwjy lSHfywn l'khbr l`m @ lymn wldyn l'\n",
      "m @ lymn wldyn l'flm lrswmy @ 'flm ltknwlwjy mwsyq~ lkutWb mwsyq~ lSHfywn g_pot\n",
      "2822657 United Arab Emirates 7 106 ltknwlwjy 'khbr l`lm 'khbr l`lwm l'khbr l`lw\n",
      "br l`lm 'khbr l`lwm l'khbr l`lwm w ltknwlwjy l'khbr l`m @ SameeraIhalawe1 Samee\n",
      "i 0 104 l'khbr l'khbr l`m @ ltrfyh ltknwlwjy l`lwm l`lwm w ltknwlwjy 'flm 'khbr\n",
      "m @ ltrfyh ltknwlwjy l`lwm l`lwm w ltknwlwjy 'flm 'khbr l`lwm 'khbr l`lm trfy @\n"
     ]
    }
   ],
   "source": [
    "text1.concordance('ltknwlwjy') #coming from the websites, coding words. "
   ]
  },
  {
   "cell_type": "code",
   "execution_count": 42,
   "metadata": {},
   "outputs": [
    {
     "name": "stdout",
     "output_type": "stream",
     "text": [
      "Displaying 25 of 165 matches:\n",
      "Emirates 10 120 News General News Journalists World News Sports Soccer Basantk7\n",
      "ch Magazine Coordinator , African Journalists Network for Agriculture ( AJNA ) \n",
      "ral News Business News World News Journalists General News News gay Business Ne\n",
      " Emirates 6 123 News General News Journalists World News Sports Soccer Soccer P\n",
      " 2 120 General News Business News Journalists Sports World News World News Spor\n",
      "he Nigeria Association of Science Journalists ( NASJ ) is made up of science an\n",
      "tertainment General Entertainment Journalists World News Micothon Theo Straatho\n",
      "747840 Johor Bahru , Johor 17 129 Journalists BakarAlim Abu Bakar Mohd Alim 819\n",
      "79489 United Arab Emirates 13 237 Journalists News General News Journalists ras\n",
      "237 Journalists News General News Journalists rashidsadaat Rashid Ahmad 8058182\n",
      " World News Movies Science Soccer Journalists Movies sureshaleti1 suresh aleti \n",
      "Emirates 20 240 News General News Journalists World News Sports World News Spor\n",
      " , United Arab Emirates 4 93 News Journalists Sports Soccer Players Local Sport\n",
      "ture General News World News News Journalists Faith & Religion Authors wreccoon\n",
      "tainment Movies Photography Music Journalists General Entertainment Entertainme\n",
      "Comedy Entertainment General News Journalists Local Sports Music Music News Pho\n",
      " & Tech Science News Science News Journalists General News Food General Enterta\n",
      "Emirates 14 178 News General News Journalists World News General News Soccer Ba\n",
      "Jalanan 797778773076643840 23 112 Journalists ajmalkhan81381 Ajmalkhan 79404491\n",
      "eneral Entertainment General News Journalists pmd91dimpho Dimpho Dee 486379499 \n",
      " News General News Business Newsh Journalists no_abh No Abh 745083659795849216 \n",
      "d Arab Emirates 1 97 General News Journalists News Science Science & Tech Scien\n",
      "Arts & Culture Photography Sports Journalists Travel Journalists News Business \n",
      "ography Sports Journalists Travel Journalists News Business News Science & Tech\n",
      "eneral Entertainment General News Journalists Photography Science Tech Theater \n"
     ]
    }
   ],
   "source": [
    "text1.concordance('Journalists') "
   ]
  },
  {
   "cell_type": "code",
   "execution_count": 44,
   "metadata": {
    "scrolled": true
   },
   "outputs": [
    {
     "name": "stdout",
     "output_type": "stream",
     "text": [
      "Displaying 25 of 100 matches:\n",
      " 150 Hiburan Comedy Teknologi Berita Sains & Teknologi alimmmjj ... .. 81598102\n",
      "lif 753954176049131521 Malaysia 5 57 Sains Filem Muzik adhrb607 `dhr `bdwly 753\n",
      "m Berita Dunia Sukan Tempatan Berita Sains Sains & Teknologi Anime Sukan Hibura\n",
      "ta Dunia Sukan Tempatan Berita Sains Sains & Teknologi Anime Sukan Hiburan Jazz\n",
      "bu , Sarawak 2 93 Comedy Filem Muzik Sains & Teknologi Hiburan Pelancongan Maka\n",
      "iburan Pelancongan Makanan Teknologi Sains Nakkazi Esther Nakkazi 37880904 Ugan\n",
      "unia Sukan Pemain Bola Sepak Hiburan Sains & Teknologi Berita Sains hazm5956 Ha\n",
      "pak Hiburan Sains & Teknologi Berita Sains hazm5956 Haz Mi 766994498131890176 1\n",
      "inabalu , Sabah 12 116 Hiburan Muzik Sains & Teknologi Berita Sains Comedy Hibu\n",
      "buran Muzik Sains & Teknologi Berita Sains Comedy Hiburan Am Filem Hiburan Muzi\n",
      "Hiburan Muzik Teknologi Anime Berita Sains Berita Sains Berita Sains clementtob\n",
      " Teknologi Anime Berita Sains Berita Sains Berita Sains clementtobiko clementto\n",
      "ime Berita Sains Berita Sains Berita Sains clementtobiko clementtobiko 33368326\n",
      "380556800 Trengganu , Malaysia 12 72 Sains & Teknologi Sains & Teknologi Sanzoo\n",
      "u , Malaysia 12 72 Sains & Teknologi Sains & Teknologi Sanzoo13 SON G 826520240\n",
      "ilem Muzik Seni & Budaya Pelancongan Sains & Teknologi Fotografi Berita Sains B\n",
      "n Sains & Teknologi Fotografi Berita Sains Berita Sains AlbaroudiObaidA Obaida \n",
      "nologi Fotografi Berita Sains Berita Sains AlbaroudiObaidA Obaida Albaroudi 817\n",
      "uran Anime Hiburan Makanan Fotografi Sains Berita Sains Sains & Teknologi Comed\n",
      "buran Makanan Fotografi Sains Berita Sains Sains & Teknologi Comedy Hiburan Am \n",
      "Makanan Fotografi Sains Berita Sains Sains & Teknologi Comedy Hiburan Am Filem \n",
      "64238535266304 Kedah , Malaysia 9 90 Sains & Teknologi hamed2010_710 hamed ali \n",
      "Berita Dunia Pemain Bola Sepak Sukan Sains & Teknologi Berita Sains Sains Vince\n",
      "Sepak Sukan Sains & Teknologi Berita Sains Sains VinceTan12 Vince Tan 829372306\n",
      "Sukan Sains & Teknologi Berita Sains Sains VinceTan12 Vince Tan 829372306216464\n"
     ]
    }
   ],
   "source": [
    "text1.concordance('Sains') "
   ]
  },
  {
   "cell_type": "markdown",
   "metadata": {},
   "source": [
    "## Lexical Dispersion \n",
    "Lexical Dispersion is one thing to automatically detect that a particular word occurs in a text, and to display some words that appear in the same context. However, we can also determine the location of a word in the text: how many words from the beginning it appears. [link](http://www.nltk.org/book/ch01.html). The lexical dispersion below shows the frequency of word types from the AfriScience magazine and the next one the frequency of words from the Society for Science & the Republic magazine. "
   ]
  },
  {
   "cell_type": "code",
   "execution_count": 46,
   "metadata": {},
   "outputs": [
    {
     "data": {
      "image/png": "[encoded data removed]",
      "text/plain": [
       "<matplotlib.figure.Figure at 0x229a6844208>"
      ]
     },
     "metadata": {},
     "output_type": "display_data"
    }
   ],
   "source": [
    "#Africa Science magazine lexical dispersion\n",
    "text1.dispersion_plot([\"Comedy\", \"ltknwlwjy\", \"khbr\", \"Journalists\", \"Sains\", \"News\", \"Science\", \"God\"])"
   ]
  },
  {
   "cell_type": "code",
   "execution_count": 14,
   "metadata": {},
   "outputs": [
    {
     "data": {
      "image/png": "[encoded data removed]",
      "text/plain": [
       "<matplotlib.figure.Figure at 0x13eb94ab668>"
      ]
     },
     "metadata": {},
     "output_type": "display_data"
    }
   ],
   "source": [
    "#Society for Science magazine lexical dispersion\n",
    "text2.dispersion_plot([\"Comedy\", \"science\", \"khbr\", \"Journalists\", \"Sains\", \"News\", \"Science\", \"God\"])"
   ]
  },
  {
   "cell_type": "code",
   "execution_count": 19,
   "metadata": {},
   "outputs": [
    {
     "name": "stdout",
     "output_type": "stream",
     "text": [
      "Displaying 6 of 6 matches:\n",
      " 100705461 Malaysia 1109 371 Rencana sains & teknologi di Malaysia . Berminat m\n",
      "Pusat Belajar & Konsultan Pendidikan Sains | Berkarya Mengukir Prestasi | Demo \n",
      " | Berkarya Mengukir Prestasi | Demo Sains , Ekskul Sains , Workshop Sains , Ou\n",
      "gukir Prestasi | Demo Sains , Ekskul Sains , Workshop Sains , Outing Sains , dl\n",
      "Demo Sains , Ekskul Sains , Workshop Sains , Outing Sains , dll . | Kontak : 08\n",
      "skul Sains , Workshop Sains , Outing Sains , dll . | Kontak : 085721801275 Solo\n"
     ]
    }
   ],
   "source": [
    "text2.concordance('Sains') "
   ]
  },
  {
   "cell_type": "code",
   "execution_count": 138,
   "metadata": {},
   "outputs": [
    {
     "name": "stdout",
     "output_type": "stream",
     "text": [
      "Displaying 5 of 5 matches:\n",
      "nce and Societies TheBiggerBan Steven Ban 2545058666 10 37 ammarshadiq Ammar Sh\n",
      "manity better itself . aspeed Krampus Ban All Nazis Pamphlet 14156602 In the cr\n",
      " takafumi24d JUN 4732670839 Ri Ben Da Ban 232 356 RitsSheng Ming Ying Hua 2Hui \n",
      " Xing Jun deitsupaida } gaZhao Ri Chu Ban She sanyoriFa Mai Zhong . yoroshikuoY\n",
      "41769967 6 51 islandgirlmandy kimesha Ban 97680139 51 407 jwhite4833 jerry whit\n"
     ]
    }
   ],
   "source": [
    "text2.concordance('Ban') #middle name"
   ]
  },
  {
   "cell_type": "code",
   "execution_count": 139,
   "metadata": {},
   "outputs": [
    {
     "name": "stdout",
     "output_type": "stream",
     "text": [
      "Displaying 25 of 26 matches:\n",
      "saka , JPN , Asia , Earth 474 2322 Da Ban Sheng mare , Da Ban Yu chi , Quan Hao\n",
      "Earth 474 2322 Da Ban Sheng mare , Da Ban Yu chi , Quan Hao ki , satsukaHao ki \n",
      "Qiu Zhuan Yong Gou . Gao Xiao Sheng . Ban Shen huandenchihanashi . Ruo Shou haQ\n",
      "n 801017263369224193 9 80 Dong Man Yi Ban Xin Wen Guo Ji Xin Wen Yu Le Yi Shu Y\n",
      "87712944128 Pinang , Malaysia 6 96 Yi Ban Xin Wen Guo Ji Xin Wen Shang Ye Xin W\n",
      "826276507463020544 Malaysia 25 506 Yi Ban Yu Le Yi Ban Yu Le Yi Ban Yu Le Yi Ba\n",
      "20544 Malaysia 25 506 Yi Ban Yu Le Yi Ban Yu Le Yi Ban Yu Le Yi Ban Yu Le Yi Ba\n",
      "a 25 506 Yi Ban Yu Le Yi Ban Yu Le Yi Ban Yu Le Yi Ban Yu Le Yi Ban Xin Wen Fai\n",
      "an Yu Le Yi Ban Yu Le Yi Ban Yu Le Yi Ban Yu Le Yi Ban Xin Wen FaisalF09403695 \n",
      "an Yu Le Yi Ban Yu Le Yi Ban Yu Le Yi Ban Xin Wen FaisalF09403695 Faisal Fai 82\n",
      " Lee 818899213845233665 UAE 12 127 Yi Ban Xin Wen Guo Ji Xin Wen Lu You She Yin\n",
      "94753 0 108 beatrice_godeau zeruChuan Ban Shen Ye nooHui Miao ki60Fen Yi Ben Sh\n",
      "vy ivy HOe 820713754388152320 3 95 Yi Ban Yu Le Guo Ji Xin Wen Ke Xue Xin Wen K\n",
      "27_ Sky wu 795112256744857600 0 74 Yi Ban Yu Le Yi Ban Xin Wen Dragonphang Phan\n",
      "5112256744857600 0 74 Yi Ban Yu Le Yi Ban Xin Wen Dragonphang Phang 87027254979\n",
      "wang Raina 793275955665960960 2 92 Yi Ban Yu Le Yi Ban Xin Wen Dong Man Lu You \n",
      "3275955665960960 2 92 Yi Ban Yu Le Yi Ban Xin Wen Dong Man Lu You She Ying Xi J\n",
      "61449216 2 92 Yu Le Guo Ji Xin Wen Yi Ban Xin Wen Dian Ying BustamiTam1 Bustami\n",
      "Qiu Zu Qiu Zu Qiu Xuan Shou Yin Le Yi Ban Yu Le Yu Le Dian Ying Yin Le Yin Le L\n",
      "903309824 Tasik Prima 1 98 Xin Wen Yi Ban Xin Wen Shang Ye Xin Wen Guo Ji Xin W\n",
      "i Xin Wen Ti Yu Ben Di Ti Yu Yu Le Yi Ban Yu Le Yin Le Dian Ying Yi Shu Yu Wen \n",
      "6 Kelang , Selangor 10 216 Xin Wen Yi Ban Xin Wen Shang Ye Xin Wen Ji Zhe Guo J\n",
      "i Xin Wen Ti Yu Ben Di Ti Yu Yu Le Yi Ban Yu Le Yin Le Dian Ying Xi Ju Dong Man\n",
      "853119994627895296 Lian Deng 1 129 Yi Ban Xin Wen Ji Zhe Yin Le Yu Le Dian Ying\n",
      "i Zhe Yin Le Yu Le Dian Ying Ti Yu Yi Ban Yu Le Dong Man Lu You Mei Shi She Yin\n"
     ]
    }
   ],
   "source": [
    "text1.concordance('Ban') #middle name"
   ]
  },
  {
   "cell_type": "markdown",
   "metadata": {},
   "source": [
    "## Findings\n",
    "The characters are different when the words are non-English words. For example, the word \"Journalists\" is in sentences that are more formal and informative about different news channels in Africa and in the Emirates. However, the other top words \"Comedy\", \"ltknwlwjy\", \"Sains\" are in sentence that have unusual characters, misspelled words, and repetitve sentences. For example, technolgy is spelled as Teknologi and go along with the words Sains. For these reasons, some of the sentences are suspuscious, leading the steps below to know more about the followers of AfriScience magazine. The objective is to find which followers are real users and which ones are bots. "
   ]
  },
  {
   "attachments": {
    "image.png": {
     "image/png": "[encoded data removed]"
    }
   },
   "cell_type": "markdown",
   "metadata": {},
   "source": [
    "## What I was hoping to do but did not get to:\n",
    "\n",
    "I was hoping to do a visualization of the ratio of friends to followers in Python but did not succeed to do so. I did in excel instead, which I included in the write up (Figure 4), and also pasted a screenshot of it here: \n",
    "![image.png](attachment:image.png)\n",
    "\n",
    "Figure 4 presents statistics of ratio of followers to friends (# of followers / # of friends in Excel). The graph shows that there are more than 300 accounts from Africa Science followers that have 0 friends following them back, also known as bots. (see the write up in pdf format in this folder to know more about this section).\n",
    "\n",
    "# Conclusion\n",
    "Using a Naïve Bayes classifier to analyze Twitter API data from Africa Science News and the Society for Science provides informative insights on word patterns that are typical to each magazine. Moreover, the frequency and context of word usages can be helpful to know the nature of Twitter subscribers, whether real account or bots. "
   ]
  }
 ],
 "metadata": {
  "kernelspec": {
   "display_name": "Python 3 (ipykernel)",
   "language": "python",
   "name": "python3"
  },
  "language_info": {
   "codemirror_mode": {
    "name": "ipython",
    "version": 3
   },
   "file_extension": ".py",
   "mimetype": "text/x-python",
   "name": "python",
   "nbconvert_exporter": "python",
   "pygments_lexer": "ipython3",
   "version": "3.9.7"
  }
 },
 "nbformat": 4,
 "nbformat_minor": 1
}
